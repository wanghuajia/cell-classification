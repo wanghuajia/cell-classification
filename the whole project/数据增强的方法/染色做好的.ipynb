{
 "cells": [
  {
   "cell_type": "code",
   "execution_count": 3,
   "metadata": {},
   "outputs": [],
   "source": [
    "from __future__ import division\n",
    "import os,sys\n",
    "sys.path.append('/media/biototem/新加卷/Kwong/StainTools/')\n",
    "from utils import visual_utils as vu\n",
    "from utils import misc_utils as mu\n",
    "from normalization.reinhard import ReinhardNormalizer\n",
    "from normalization.macenko import MacenkoNormalizer\n",
    "from normalization.vahadane import VahadaneNormalizer\n",
    "%load_ext autoreload\n",
    "%autoreload 2\n",
    "import numpy as np\n",
    "import matplotlib.pyplot as plt\n",
    "%matplotlib inline\n",
    "import cv2\n"
   ]
  },
  {
   "cell_type": "code",
   "execution_count": 24,
   "metadata": {},
   "outputs": [],
   "source": [
    "def stain(imgDir):\n",
    "    dir_1 = os.listdir('./' + imgDir)\n",
    "    i1=cv2.imread('./breast_64/cancer cell/16547_624606002_y13825_x102401_p1_g_1.jpg')\n",
    "    n = VahadaneNormalizer()\n",
    "    n.fit(i1)\n",
    "    for i in range(len(dir_1)):\n",
    "        img_list = os.listdir('./'+imgDir+'/'+dir_1[i])\n",
    "        print(dir_1[i]+':'+str(len(img_list)))\n",
    "        for j in range(len(img_list)):\n",
    "            img_folder = os.listdir('./'+imgDir+'/'+dir_1[i]+'/'+img_list[j])  \n",
    "            #print(img_folder)\n",
    "            img = cv2.imread('./'+imgDir+'/'+dir_1[i]+'/'+img_list[j]+'/'+img_folder[0])\n",
    "            img_stain=n.transform(img)\n",
    "            img_dir = './breast64/test(mix)/'+dir_1[i]+'/'+os.path.splitext(img_list[j])[0]\n",
    "            if not os.path.exists(img_dir):os.makedirs(img_dir)\n",
    "            cv2.imwrite(img_dir+'/'+img_folder[0]+'_stain.jpg',img_stain)\n",
    "            cv2.imwrite(img_dir+'/'+img_folder[0]+'.jpg',img)"
   ]
  },
  {
   "cell_type": "code",
   "execution_count": 25,
   "metadata": {
    "scrolled": true
   },
   "outputs": [
    {
     "name": "stdout",
     "output_type": "stream",
     "text": [
      "cancer cell:150\n",
      "lymphocyte:150\n",
      "plasma cell:150\n"
     ]
    }
   ],
   "source": [
    "if __name__ == '__main__':\n",
    "    stain('breast64/sum/test')"
   ]
  },
  {
   "cell_type": "code",
   "execution_count": null,
   "metadata": {},
   "outputs": [],
   "source": [
    "        #n.fit(i1)\n",
    "        #img_strain=n.transform(img)\n",
    "        #img_dir = './strain'+dir_1[i]\n",
    "        #if not os.path.exists(img_dir):os.makedirs(img_dir)\n",
    "        #cv2.imwrite(img_dir+'/'+os.path.splitext(dir_1[i])[0]+'.jpg',img_strain)"
   ]
  }
 ],
 "metadata": {
  "kernelspec": {
   "display_name": "Python 3",
   "language": "python",
   "name": "python3"
  },
  "language_info": {
   "codemirror_mode": {
    "name": "ipython",
    "version": 3
   },
   "file_extension": ".py",
   "mimetype": "text/x-python",
   "name": "python",
   "nbconvert_exporter": "python",
   "pygments_lexer": "ipython3",
   "version": "3.6.4"
  }
 },
 "nbformat": 4,
 "nbformat_minor": 2
}
