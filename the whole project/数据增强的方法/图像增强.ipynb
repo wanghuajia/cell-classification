{
 "cells": [
  {
   "cell_type": "code",
   "execution_count": 1,
   "metadata": {},
   "outputs": [],
   "source": [
    "# -*- coding: utf-8 -*-\n",
    "import sys, os\n",
    "import cv2\n",
    "import numpy as np\n",
    "import matplotlib.pyplot as plt\n",
    "import gc\n",
    "import random"
   ]
  },
  {
   "cell_type": "code",
   "execution_count": 2,
   "metadata": {},
   "outputs": [],
   "source": [
    "def rotate(image, angle, center=None, scale=1.0):\n",
    "    # 获取图像尺寸\n",
    "    (h, w) = image.shape[:2]\n",
    "\n",
    "    # 若未指定旋转中心，则将图像中心设为旋转中心\n",
    "    if center is None:\n",
    "        center = (w / 2, h / 2)\n",
    "\n",
    "    # 执行旋转\n",
    "    M = cv2.getRotationMatrix2D(center, angle, scale)\n",
    "    rotated = cv2.warpAffine(image, M, (w, h))\n",
    "\n",
    "    # 返回旋转后的图像\n",
    "    return rotated"
   ]
  },
  {
   "cell_type": "code",
   "execution_count": 3,
   "metadata": {},
   "outputs": [],
   "source": [
    "def stain_Img(imgDir):\n",
    "    '''取出已经染色好的图片数据'''\n",
    "    dir_1 = os.listdir('./' + imgDir)\n",
    "    for i in range(len(dir_1)):\n",
    "        img_list = os.listdir('./'+imgDir+'/'+dir_1[i])\n",
    "        print(dir_1[i]+' : '+ str(len(img_list)))\n",
    "        for j in range(len(img_list)):\n",
    "            img = cv2.imread('./' + imgDir+'/'+dir_1[i] + '/' + img_list[j])\n",
    "            img_save_dir = './breast_64/'+dir_1[i]\n",
    "            if not os.path.exists(img_save_dir):os.makedirs(img_save_dir)\n",
    "            cv2.imwrite(img_save_dir+'/'+os.path.splitext(img_list[j])[0]+'_stain.jpg',img)"
   ]
  },
  {
   "cell_type": "code",
   "execution_count": 5,
   "metadata": {},
   "outputs": [],
   "source": [
    "if __name__ == '__main__':\n",
    "    stain_Img('breast64_stain')"
   ]
  },
  {
   "cell_type": "code",
   "execution_count": 6,
   "metadata": {},
   "outputs": [],
   "source": [
    "def test_Img(imgDir):\n",
    "    dir_1 = os.listdir('./' + imgDir)\n",
    "    for i in range(len(dir_1)):\n",
    "        img_list = os.listdir('./'+imgDir+'/'+dir_1[i])\n",
    "        print(dir_1[i]+' : '+ str(len(img_list)))\n",
    "        for j in range(len(img_list)):\n",
    "            img_folder = os.listdir('./'+imgDir+'/'+dir_1[i]+'/'+img_list[j])\n",
    "            img = cv2.imread('./' + imgDir+'/'+dir_1[i] + '/' + img_list[j]+'/'+img_folder[0])\n",
    "            img_h = cv2.flip(img,1)\n",
    "            img_h_90 = rotate(img_h, 90)\n",
    "            img_h_180 = rotate(img_h, 180)\n",
    "            img_h_270 = rotate(img_h, 270)\n",
    "            img_w = cv2.flip(img,0)\n",
    "            img_w_90 = rotate(img_w, 90)\n",
    "            img_w_180 = rotate(img_w, 180)\n",
    "            img_w_270 = rotate(img_w, 270)\n",
    "            img_save_dir = './breast64/sum/test/'+dir_1[i]\n",
    "            #img_h_save_dir = './breast64/train/'+dir_1[i]\n",
    "            #img_h_90_save_dir = './breast64/train/'+dir_1[i]\n",
    "            #img_h_180_save_dir = './breast64/train/'+dir_1[i]\n",
    "            #img_h_270_save_dir = './breast64/train/'+dir_1[i]\n",
    "            #img_w_save_dir = './breast64/train/'+dir_1[i]\n",
    "            #img_w_90_save_dir = './breast64/train/'+dir_1[i]\n",
    "            #img_w_180_save_dir = './breast64/train/'+dir_1[i]\n",
    "            #img_w_270_save_dir = './breast64/train/'+dir_1[i]\n",
    "            if not os.path.exists(img_save_dir):os.makedirs(img_save_dir)\n",
    "            #if not os.path.exists(img_h_save_dir):os.makedirs(img_h_save_dir)\n",
    "            #if not os.path.exists(img_h_90_save_dir):os.makedirs(img_h_90_save_dir)\n",
    "            #if not os.path.exists(img_h_180_save_dir):os.makedirs(img_h_180_save_dir)\n",
    "            #if not os.path.exists(img_h_270_save_dir):os.makedirs(img_h_270_save_dir)\n",
    "            #if not os.path.exists(img_w_save_dir):os.makedirs(img_w_save_dir)            \n",
    "            #if not os.path.exists(img_w_90_save_dir):os.makedirs(img_w_90_save_dir)\n",
    "            #if not os.path.exists(img_w_180_save_dir):os.makedirs(img_w_180_save_dir)\n",
    "            #if not os.path.exists(img_w_270_save_dir):os.makedirs(img_w_270_save_dir)\n",
    "            cv2.imwrite(img_save_dir+'/'+os.path.splitext(img_list[j])[0]+'.jpg',img)\n",
    "            cv2.imwrite(img_save_dir+'/'+os.path.splitext(img_list[j])[0]+'_h.jpg',img_h)\n",
    "            cv2.imwrite(img_save_dir+'/'+os.path.splitext(img_list[j])[0]+'_h_90.jpg',img_h_90)\n",
    "            cv2.imwrite(img_save_dir+'/'+os.path.splitext(img_list[j])[0]+'_h_180.jpg',img_h_180)\n",
    "            cv2.imwrite(img_save_dir+'/'+os.path.splitext(img_list[j])[0]+'_h_270.jpg',img_h_270)\n",
    "            cv2.imwrite(img_save_dir+'/'+os.path.splitext(img_list[j])[0]+'_w.jpg',img_w)\n",
    "            cv2.imwrite(img_save_dir+'/'+os.path.splitext(img_list[j])[0]+'_w_90.jpg',img_w_90)\n",
    "            cv2.imwrite(img_save_dir+'/'+os.path.splitext(img_list[j])[0]+'_w_180.jpg',img_w_180)\n",
    "            cv2.imwrite(img_save_dir+'/'+os.path.splitext(img_list[j])[0]+'_w_270.jpg',img_w_270)"
   ]
  },
  {
   "cell_type": "code",
   "execution_count": 12,
   "metadata": {},
   "outputs": [
    {
     "name": "stdout",
     "output_type": "stream",
     "text": [
      "cancer cell : 300\n",
      "lymphocyte : 300\n",
      "plasma cell : 300\n"
     ]
    }
   ],
   "source": [
    "if __name__ == '__main__':\n",
    "    test_Img('./breast64/test')"
   ]
  },
  {
   "cell_type": "code",
   "execution_count": 8,
   "metadata": {},
   "outputs": [],
   "source": [
    "def valid_Img(imgDir):\n",
    "    dir_1 = os.listdir('./' + imgDir)\n",
    "    for i in range(len(dir_1)):\n",
    "        img_list = os.listdir('./'+imgDir+'/'+dir_1[i])\n",
    "        print(dir_1[i]+' : '+ str(len(img_list)))\n",
    "        for j in range(len(img_list)):\n",
    "            img = cv2.imread('./' + imgDir+'/'+dir_1[i] + '/' + img_list[j])\n",
    "            img_h = cv2.flip(img,1)\n",
    "            img_h_90 = rotate(img_h, 90)\n",
    "            img_h_180 = rotate(img_h, 180)\n",
    "            img_h_270 = rotate(img_h, 270)\n",
    "            img_w = cv2.flip(img,0)\n",
    "            img_w_90 = rotate(img_w, 90)\n",
    "            img_w_180 = rotate(img_w, 180)\n",
    "            img_w_270 = rotate(img_w, 270)\n",
    "            img_save_dir = './breast64/sum/validation/'+dir_1[i]\n",
    "            #img_h_save_dir = './breast64/train/'+dir_1[i]\n",
    "            #img_h_90_save_dir = './breast64/train/'+dir_1[i]\n",
    "            #img_h_180_save_dir = './breast64/train/'+dir_1[i]\n",
    "            #img_h_270_save_dir = './breast64/train/'+dir_1[i]\n",
    "            #img_w_save_dir = './breast64/train/'+dir_1[i]\n",
    "            #img_w_90_save_dir = './breast64/train/'+dir_1[i]\n",
    "            #img_w_180_save_dir = './breast64/train/'+dir_1[i]\n",
    "            #img_w_270_save_dir = './breast64/train/'+dir_1[i]\n",
    "            if not os.path.exists(img_save_dir):os.makedirs(img_save_dir)\n",
    "            #if not os.path.exists(img_h_save_dir):os.makedirs(img_h_save_dir)\n",
    "            #if not os.path.exists(img_h_90_save_dir):os.makedirs(img_h_90_save_dir)\n",
    "            #if not os.path.exists(img_h_180_save_dir):os.makedirs(img_h_180_save_dir)\n",
    "            #if not os.path.exists(img_h_270_save_dir):os.makedirs(img_h_270_save_dir)\n",
    "            #if not os.path.exists(img_w_save_dir):os.makedirs(img_w_save_dir)            \n",
    "            #if not os.path.exists(img_w_90_save_dir):os.makedirs(img_w_90_save_dir)\n",
    "            #if not os.path.exists(img_w_180_save_dir):os.makedirs(img_w_180_save_dir)\n",
    "            #if not os.path.exists(img_w_270_save_dir):os.makedirs(img_w_270_save_dir)\n",
    "            cv2.imwrite(img_save_dir+'/'+os.path.splitext(img_list[j])[0]+'.jpg',img)\n",
    "            cv2.imwrite(img_save_dir+'/'+os.path.splitext(img_list[j])[0]+'_h.jpg',img_h)\n",
    "            cv2.imwrite(img_save_dir+'/'+os.path.splitext(img_list[j])[0]+'_h_90.jpg',img_h_90)\n",
    "            cv2.imwrite(img_save_dir+'/'+os.path.splitext(img_list[j])[0]+'_h_180.jpg',img_h_180)\n",
    "            cv2.imwrite(img_save_dir+'/'+os.path.splitext(img_list[j])[0]+'_h_270.jpg',img_h_270)\n",
    "            cv2.imwrite(img_save_dir+'/'+os.path.splitext(img_list[j])[0]+'_w.jpg',img_w)\n",
    "            cv2.imwrite(img_save_dir+'/'+os.path.splitext(img_list[j])[0]+'_w_90.jpg',img_w_90)\n",
    "            cv2.imwrite(img_save_dir+'/'+os.path.splitext(img_list[j])[0]+'_w_180.jpg',img_w_180)\n",
    "            cv2.imwrite(img_save_dir+'/'+os.path.splitext(img_list[j])[0]+'_w_270.jpg',img_w_270)"
   ]
  },
  {
   "cell_type": "code",
   "execution_count": 9,
   "metadata": {},
   "outputs": [
    {
     "name": "stdout",
     "output_type": "stream",
     "text": [
      "cancer cell : 300\n",
      "lymphocyte : 300\n",
      "plasma cell : 300\n"
     ]
    }
   ],
   "source": [
    "if __name__ == '__main__':\n",
    "    valid_Img('./breast64/validation')"
   ]
  },
  {
   "cell_type": "code",
   "execution_count": 10,
   "metadata": {},
   "outputs": [],
   "source": [
    "def train_Img(imgDir):\n",
    "    dir_1 = os.listdir('./' + imgDir)\n",
    "    for i in range(len(dir_1)):\n",
    "        img_list = os.listdir('./'+imgDir+'/'+dir_1[i])\n",
    "        print(dir_1[i]+' : '+ str(len(img_list)))\n",
    "        for j in range(len(img_list)):\n",
    "            img = cv2.imread('./' + imgDir+'/'+dir_1[i] + '/' + img_list[j])\n",
    "            img_h = cv2.flip(img,1)\n",
    "            img_h_90 = rotate(img_h, 90)\n",
    "            img_h_180 = rotate(img_h, 180)\n",
    "            img_h_270 = rotate(img_h, 270)\n",
    "            img_w = cv2.flip(img,0)\n",
    "            img_w_90 = rotate(img_w, 90)\n",
    "            img_w_180 = rotate(img_w, 180)\n",
    "            img_w_270 = rotate(img_w, 270)\n",
    "            img_save_dir = './breast64/sum/train/'+dir_1[i]\n",
    "            #img_h_save_dir = './breast64/train/'+dir_1[i]\n",
    "            #img_h_90_save_dir = './breast64/train/'+dir_1[i]\n",
    "            #img_h_180_save_dir = './breast64/train/'+dir_1[i]\n",
    "            #img_h_270_save_dir = './breast64/train/'+dir_1[i]\n",
    "            #img_w_save_dir = './breast64/train/'+dir_1[i]\n",
    "            #img_w_90_save_dir = './breast64/train/'+dir_1[i]\n",
    "            #img_w_180_save_dir = './breast64/train/'+dir_1[i]\n",
    "            #img_w_270_save_dir = './breast64/train/'+dir_1[i]\n",
    "            if not os.path.exists(img_save_dir):os.makedirs(img_save_dir)\n",
    "            #if not os.path.exists(img_h_save_dir):os.makedirs(img_h_save_dir)\n",
    "            #if not os.path.exists(img_h_90_save_dir):os.makedirs(img_h_90_save_dir)\n",
    "            #if not os.path.exists(img_h_180_save_dir):os.makedirs(img_h_180_save_dir)\n",
    "            #if not os.path.exists(img_h_270_save_dir):os.makedirs(img_h_270_save_dir)\n",
    "            #if not os.path.exists(img_w_save_dir):os.makedirs(img_w_save_dir)            \n",
    "            #if not os.path.exists(img_w_90_save_dir):os.makedirs(img_w_90_save_dir)\n",
    "            #if not os.path.exists(img_w_180_save_dir):os.makedirs(img_w_180_save_dir)\n",
    "            #if not os.path.exists(img_w_270_save_dir):os.makedirs(img_w_270_save_dir)\n",
    "            cv2.imwrite(img_save_dir+'/'+os.path.splitext(img_list[j])[0]+'.jpg',img)\n",
    "            cv2.imwrite(img_save_dir+'/'+os.path.splitext(img_list[j])[0]+'_h.jpg',img_h)\n",
    "            cv2.imwrite(img_save_dir+'/'+os.path.splitext(img_list[j])[0]+'_h_90.jpg',img_h_90)\n",
    "            cv2.imwrite(img_save_dir+'/'+os.path.splitext(img_list[j])[0]+'_h_180.jpg',img_h_180)\n",
    "            cv2.imwrite(img_save_dir+'/'+os.path.splitext(img_list[j])[0]+'_h_270.jpg',img_h_270)\n",
    "            cv2.imwrite(img_save_dir+'/'+os.path.splitext(img_list[j])[0]+'_w.jpg',img_w)\n",
    "            cv2.imwrite(img_save_dir+'/'+os.path.splitext(img_list[j])[0]+'_w_90.jpg',img_w_90)\n",
    "            cv2.imwrite(img_save_dir+'/'+os.path.splitext(img_list[j])[0]+'_w_180.jpg',img_w_180)\n",
    "            cv2.imwrite(img_save_dir+'/'+os.path.splitext(img_list[j])[0]+'_w_270.jpg',img_w_270)"
   ]
  },
  {
   "cell_type": "code",
   "execution_count": 13,
   "metadata": {},
   "outputs": [
    {
     "name": "stdout",
     "output_type": "stream",
     "text": [
      "cancer cell : 2534\n",
      "lymphocyte : 7406\n",
      "plasma cell : 4078\n"
     ]
    }
   ],
   "source": [
    "if __name__ == '__main__':\n",
    "    train_Img('./breast64/train')"
   ]
  },
  {
   "cell_type": "code",
   "execution_count": 5,
   "metadata": {},
   "outputs": [
    {
     "data": {
      "text/plain": [
       "7909"
      ]
     },
     "execution_count": 5,
     "metadata": {},
     "output_type": "execute_result"
    }
   ],
   "source": [
    "cancer cell : 1567\n",
    "lymphocyte : 4003\n",
    "plasma cell : 2339\n",
    "\n",
    "2339+4003 +1567"
   ]
  },
  {
   "cell_type": "code",
   "execution_count": 6,
   "metadata": {},
   "outputs": [
    {
     "data": {
      "text/plain": [
       "47454"
      ]
     },
     "execution_count": 6,
     "metadata": {},
     "output_type": "execute_result"
    }
   ],
   "source": [
    "14034+24018+9402"
   ]
  },
  {
   "cell_type": "code",
   "execution_count": 17,
   "metadata": {},
   "outputs": [
    {
     "data": {
      "text/plain": [
       "9.0"
      ]
     },
     "execution_count": 17,
     "metadata": {},
     "output_type": "execute_result"
    }
   ],
   "source": [
    "21051 /2339"
   ]
  },
  {
   "cell_type": "code",
   "execution_count": 13,
   "metadata": {},
   "outputs": [
    {
     "data": {
      "text/plain": [
       "9.000379314704766"
      ]
     },
     "execution_count": 13,
     "metadata": {},
     "output_type": "execute_result"
    }
   ],
   "source": [
    "71184/71,184"
   ]
  },
  {
   "cell_type": "code",
   "execution_count": 8,
   "metadata": {},
   "outputs": [
    {
     "data": {
      "text/plain": [
       "18.000379314704766"
      ]
     },
     "execution_count": 8,
     "metadata": {},
     "output_type": "execute_result"
    }
   ],
   "source": [
    "142365/7909"
   ]
  },
  {
   "cell_type": "code",
   "execution_count": null,
   "metadata": {},
   "outputs": [],
   "source": []
  }
 ],
 "metadata": {
  "kernelspec": {
   "display_name": "Python 3",
   "language": "python",
   "name": "python3"
  },
  "language_info": {
   "codemirror_mode": {
    "name": "ipython",
    "version": 3
   },
   "file_extension": ".py",
   "mimetype": "text/x-python",
   "name": "python",
   "nbconvert_exporter": "python",
   "pygments_lexer": "ipython3",
   "version": "3.6.4"
  }
 },
 "nbformat": 4,
 "nbformat_minor": 2
}
