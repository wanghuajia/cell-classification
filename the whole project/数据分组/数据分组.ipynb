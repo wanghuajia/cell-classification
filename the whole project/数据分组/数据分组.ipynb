{
 "cells": [
  {
   "cell_type": "code",
   "execution_count": 5,
   "metadata": {},
   "outputs": [],
   "source": [
    "# -*- coding: utf-8 -*-\n",
    "import sys, os\n",
    "import cv2\n",
    "import numpy as np\n",
    "import matplotlib.pyplot as plt\n",
    "import gc\n",
    "import random"
   ]
  },
  {
   "cell_type": "code",
   "execution_count": 6,
   "metadata": {},
   "outputs": [],
   "source": [
    "def creat_Img(imgDir1):\n",
    "    dir_1 = os.listdir('./' + imgDir1)\n",
    "    print(dir_1)\n",
    "    for i in range(len(dir_1)):\n",
    "        n=0\n",
    "        m=0\n",
    "        img_list1 = os.listdir('./'+imgDir1+'/'+dir_1[i])\n",
    "        print(dir_1[i]+' : '+ str(len(img_list1)))\n",
    "        for j in range(len(img_list1)):\n",
    "            img1 = cv2.imread('./' + imgDir1+'/'+dir_1[i] + '/' + img_list1[j])\n",
    "            img_save_dir = './raw/train/'+dir_1[i]\n",
    "            a = random.randint(1,9)\n",
    "            if (a%3==0)and(n<300):\n",
    "                img_save_dir = './raw/validation/'+dir_1[i]\n",
    "                n = n+1\n",
    "            if (a%4==0)and(m<300):\n",
    "                img_save_dir = './raw/test/'+dir_1[i]\n",
    "                m = m+1\n",
    "            if not os.path.exists(img_save_dir):os.makedirs(img_save_dir)\n",
    "            #print(os.path.splitext(img_list1[j])[0])\n",
    "            cv2.imwrite(img_save_dir+'/'+os.path.splitext(img_list1[j])[0]+'.png',img1)"
   ]
  },
  {
   "cell_type": "code",
   "execution_count": 7,
   "metadata": {},
   "outputs": [
    {
     "name": "stdout",
     "output_type": "stream",
     "text": [
      "['cancer cell', 'lymphocyte', 'plasma cell']\n",
      "cancer cell : 1567\n",
      "lymphocyte : 4003\n",
      "plasma cell : 2339\n"
     ]
    }
   ],
   "source": [
    "if __name__ == '__main__':\n",
    "    creat_Img('breast_64')"
   ]
  },
  {
   "cell_type": "code",
   "execution_count": 15,
   "metadata": {},
   "outputs": [],
   "source": []
  }
 ],
 "metadata": {
  "kernelspec": {
   "display_name": "Python 3",
   "language": "python",
   "name": "python3"
  },
  "language_info": {
   "codemirror_mode": {
    "name": "ipython",
    "version": 3
   },
   "file_extension": ".py",
   "mimetype": "text/x-python",
   "name": "python",
   "nbconvert_exporter": "python",
   "pygments_lexer": "ipython3",
   "version": "3.6.4"
  }
 },
 "nbformat": 4,
 "nbformat_minor": 2
}
